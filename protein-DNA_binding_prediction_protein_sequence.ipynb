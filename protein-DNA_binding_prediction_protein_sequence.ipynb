{
 "cells": [
  {
   "cell_type": "code",
   "execution_count": 1,
   "metadata": {
    "collapsed": true
   },
   "outputs": [],
   "source": [
    "# Import modules\n",
    "\n",
    "from __future__ import print_function\n",
    "import numpy as np\n",
    "import math\n",
    "import tensorflow as tf\n",
    "import matplotlib.pyplot as plt\n",
    "from six.moves import cPickle as pickle\n",
    "from six.moves import range\n",
    "\n",
    "%matplotlib inline"
   ]
  },
  {
   "cell_type": "code",
   "execution_count": 2,
   "metadata": {
    "collapsed": true
   },
   "outputs": [],
   "source": [
    "# Load training and test file\n",
    "flank_len = 9\n",
    "\n",
    "train_file = 'train_f' + str(flank_len) + '.pickle'\n",
    "\n",
    "with open(train_file, 'rb') as train:\n",
    "    save = pickle.load(train)\n",
    "    dataset = save['seq']  # data type : numpy.ndarray // 'list' can't be dealt with 'shape' and 'reshape' \n",
    "    labels = save['label']\n",
    "\n",
    "    del save\n",
    "\n",
    "test_file = 'test_f' + str(flank_len) + '.pickle'\n",
    "\n",
    "with open(test_file, 'rb') as test:\n",
    "    save = pickle.load(test)\n",
    "    test_dataset = save['seq']\n",
    "  \n",
    "    del save"
   ]
  },
  {
   "cell_type": "code",
   "execution_count": 3,
   "metadata": {
    "collapsed": false
   },
   "outputs": [
    {
     "name": "stdout",
     "output_type": "stream",
     "text": [
      "training set (58148, 119, 4) (58148, 2)\n",
      "validation set (19383, 119, 4) (19383, 2)\n",
      "test set (19383, 119, 4)\n"
     ]
    }
   ],
   "source": [
    "# Determine how many folds\n",
    "fold = 4\n",
    "num = int(dataset.shape[0])\n",
    "        \n",
    "# Split data into several parts\n",
    "dataset_array = np.split(dataset, np.arange(int(np.ceil(num/fold)), num, int(np.ceil(num/fold))), axis = 0)\n",
    "labels_array = np.split(labels, np.arange(int(np.ceil(num/fold)), num, int(np.ceil(num/fold))), axis = 0)\n",
    "\n",
    "train_dataset = np.empty([1, 101+(2*flank_len), 4])\n",
    "train_labels = np.empty([1,2])\n",
    "for i in range(0, fold):\n",
    "    if i == 0:  # (i+1)th partition\n",
    "        valid_dataset = dataset_array[i]\n",
    "        valid_labels = labels_array[i]\n",
    "    else:\n",
    "        train_dataset = np.concatenate((train_dataset, dataset_array[i]), axis = 0)\n",
    "        train_labels = np.concatenate((train_labels, labels_array[i]), axis = 0)\n",
    "train_dataset = np.delete(train_dataset,0,0)\n",
    "train_labels = np.delete(train_labels,0,0)\n",
    "print('training set', train_dataset.shape, train_labels.shape)\n",
    "print('validation set', valid_dataset.shape, valid_labels.shape)\n",
    "print('test set', test_dataset.shape)"
   ]
  },
  {
   "cell_type": "code",
   "execution_count": 4,
   "metadata": {
    "collapsed": false
   },
   "outputs": [
    {
     "name": "stdout",
     "output_type": "stream",
     "text": [
      "Training set (58148, 119, 4, 1) (58148, 2)\n",
      "Validation set (19383, 119, 4, 1) (19383, 2)\n",
      "Test set (19383, 119, 4, 1)\n"
     ]
    }
   ],
   "source": [
    "dataset_row = train_dataset.shape[1]\n",
    "dataset_column = train_dataset.shape[2]\n",
    "num_channels = 1\n",
    "\n",
    "def reformat(dataset, labels):\n",
    "    dataset = dataset.reshape(\n",
    "        (-1, dataset_row, dataset_column, num_channels)).astype(np.float32)\n",
    "    return dataset, labels\n",
    "def test_reformat(dataset):\n",
    "    dataset = dataset.reshape(\n",
    "        (-1, dataset_row, dataset_column, num_channels)).astype(np.float32)\n",
    "    return dataset\n",
    "\n",
    "train_dataset, train_labels = reformat(train_dataset, train_labels)\n",
    "valid_dataset, valid_labels = reformat(valid_dataset, valid_labels)\n",
    "test_dataset = test_reformat(test_dataset)\n",
    "print('Training set', train_dataset.shape, train_labels.shape)\n",
    "print('Validation set', valid_dataset.shape, valid_labels.shape)\n",
    "print('Test set', test_dataset.shape)"
   ]
  },
  {
   "cell_type": "code",
   "execution_count": 5,
   "metadata": {
    "collapsed": false,
    "scrolled": true
   },
   "outputs": [],
   "source": [
    "num_labels = 2\n",
    "batch_size = train_dataset.shape[0] // 200\n",
    "depth = 16\n",
    "num_hidden = 128\n",
    "num_hidden2 = 64\n",
    "beta_regul = 8e-5\n",
    "stride_1 = 2\n",
    "stride_2 = 2\n",
    "\n",
    "graph = tf.Graph()\n",
    "\n",
    "with graph.as_default():\n",
    "\n",
    "    # Input data.\n",
    "    tf_train_dataset = tf.placeholder(\n",
    "        tf.float32, shape=(batch_size, dataset_row, dataset_column, num_channels))\n",
    "    tf_train_labels = tf.placeholder(tf.float32, shape=(batch_size, num_labels))\n",
    "    tf_valid_dataset = tf.constant(valid_dataset)\n",
    "    tf_test_dataset = tf.constant(test_dataset)\n",
    "\n",
    "    # Variables.\n",
    "    layer1_weights = tf.Variable(tf.truncated_normal(\n",
    "        [21, 4, num_channels, depth], stddev=0.1))\n",
    "    layer1_biases = tf.Variable(tf.zeros([depth]))\n",
    "    layer2_weights = tf.Variable(tf.truncated_normal(\n",
    "        [9, 2, depth, depth], stddev=0.1))\n",
    "    layer2_biases = tf.Variable(tf.constant(1.0, shape=[depth]))\n",
    "    layer3_weights = tf.Variable(tf.truncated_normal(\n",
    "        [math.ceil(math.ceil(train_dataset.shape[1]/stride_1)/stride_1)*depth, num_hidden], stddev=0.1))\n",
    "    layer3_biases = tf.Variable(tf.constant(1.0, shape=[num_hidden]))\n",
    "    layer4_weights = tf.Variable(tf.truncated_normal(\n",
    "        [num_hidden, num_hidden2], stddev=0.1))\n",
    "    layer4_biases = tf.Variable(tf.constant(1.0, shape=[num_hidden2]))\n",
    "    layer5_weights = tf.Variable(tf.truncated_normal(\n",
    "        [num_hidden2, num_labels], stddev=0.1))\n",
    "    layer5_biases = tf.Variable(tf.constant(1.0, shape=[num_labels]))\n",
    "\n",
    "  # Model.\n",
    "    def model_train(data):\n",
    "        conv = tf.nn.conv2d(data, layer1_weights, [1, stride_1, stride_1, 1], padding='SAME')\n",
    "        hidden = tf.nn.relu(conv + layer1_biases)\n",
    "        drop = tf.nn.dropout(hidden, 0.75)\n",
    "        conv = tf.nn.conv2d(drop, layer2_weights, [1, stride_2, stride_2, 1], padding='SAME')\n",
    "        hidden = tf.nn.relu(conv + layer2_biases)\n",
    "        drop = tf.nn.dropout(hidden, 0.75)\n",
    "        shape = hidden.get_shape().as_list()\n",
    "        reshape = tf.reshape(hidden, [shape[0], shape[1] * shape[2] * shape[3]])\n",
    "        hidden = tf.nn.relu(tf.matmul(reshape, layer3_weights) + layer3_biases)\n",
    "        drop = tf.nn.dropout(hidden, 0.75)\n",
    "        hidden = tf.nn.relu(tf.matmul(drop, layer4_weights) + layer4_biases)\n",
    "        return tf.matmul(hidden, layer5_weights) + layer5_biases\n",
    "\n",
    "    def model(data):\n",
    "        conv = tf.nn.conv2d(data, layer1_weights, [1, stride_1, stride_1, 1], padding='SAME')\n",
    "        hidden = tf.nn.relu(conv + layer1_biases)\n",
    "        conv = tf.nn.conv2d(hidden, layer2_weights, [1, stride_2, stride_2, 1], padding='SAME')\n",
    "        hidden = tf.nn.relu(conv + layer2_biases)\n",
    "        shape = hidden.get_shape().as_list()\n",
    "        reshape = tf.reshape(hidden, [shape[0], shape[1] * shape[2] * shape[3]])\n",
    "        hidden = tf.nn.relu(tf.matmul(reshape, layer3_weights) + layer3_biases)\n",
    "        hidden = tf.nn.relu(tf.matmul(hidden, layer4_weights) + layer4_biases)\n",
    "        return tf.matmul(hidden, layer5_weights) + layer5_biases\n",
    "\n",
    "  # Training computation.\n",
    "    logits = model_train(tf_train_dataset)\n",
    "    loss = tf.reduce_mean(\n",
    "        tf.nn.sigmoid_cross_entropy_with_logits(logits, tf_train_labels) + \\\n",
    "        beta_regul *(\n",
    "            1 * tf.nn.l2_loss(layer1_weights) + \\\n",
    "            1 * tf.nn.l2_loss(layer2_weights) + \\\n",
    "            1 * tf.nn.l2_loss(layer3_weights) + \\\n",
    "            1 * tf.nn.l2_loss(layer4_weights) + \\\n",
    "            1 * tf.nn.l2_loss(layer5_weights)))\n",
    "     \n",
    "  # Optimizer.\n",
    "    global_step = tf.Variable(0)\n",
    "    learning_rate = tf.train.exponential_decay(0.25, global_step, 5000, 0.96)\n",
    "    optimizer = tf.train.GradientDescentOptimizer(learning_rate).minimize(loss, global_step=global_step)\n",
    "  \n",
    "    # Predictions for the training, validation, and test data.\n",
    "    train_prediction = tf.sigmoid(logits)\n",
    "    valid_prediction = tf.sigmoid(model(tf_valid_dataset))\n",
    "    test_prediction = tf.sigmoid(model(tf_test_dataset))"
   ]
  },
  {
   "cell_type": "code",
   "execution_count": 6,
   "metadata": {
    "collapsed": false
   },
   "outputs": [
    {
     "name": "stdout",
     "output_type": "stream",
     "text": [
      "\t minibatch\t minibatch\t validation\n",
      "Steps\t loss     \t accuracy \t accuracy\n",
      "---------------------------------------------------\n",
      "0\t 1.036431\t 52.759 %\t 50.663 %\t\n",
      "500\t 0.683988\t 62.069 %\t 60.486 %\t\n",
      "1000\t 0.624465\t 65.862 %\t 71.129 %\t\n",
      "1500\t 0.633703\t 68.276 %\t 78.105 %\t\n",
      "2000\t 0.470493\t 78.621 %\t 84.543 %\t\n",
      "2500\t 0.467052\t 81.724 %\t 80.426 %\t\n",
      "3000\t 0.340815\t 85.517 %\t 87.535 %\t\n",
      "3500\t 0.343168\t 87.241 %\t 88.155 %\t\n",
      "4000\t 0.281665\t 90.000 %\t 88.222 %\t\n",
      "4500\t 0.316459\t 89.310 %\t 89.223 %\t\n",
      "5000\t 0.306602\t 88.621 %\t 89.651 %\t\n",
      "5500\t 0.323350\t 85.517 %\t 89.656 %\t\n",
      "6000\t 0.370277\t 84.828 %\t 88.278 %\t\n",
      "6500\t 0.326758\t 86.897 %\t 89.764 %\t\n",
      "7000\t 0.319943\t 87.586 %\t 90.069 %\t\n",
      "7500\t 0.260177\t 90.345 %\t 90.058 %\t\n",
      "8000\t 0.330911\t 87.931 %\t 89.795 %\t\n",
      "8500\t 0.266430\t 91.034 %\t 90.378 %\t\n",
      "9000\t 0.265763\t 90.000 %\t 90.528 %\t\n",
      "9500\t 0.285275\t 91.724 %\t 90.358 %\t\n",
      "10000\t 0.260739\t 90.690 %\t 90.487 %\t\n",
      "10500\t 0.273746\t 89.655 %\t 89.919 %\t\n",
      "11000\t 0.281265\t 91.034 %\t 90.590 %\t\n",
      "11500\t 0.278727\t 91.034 %\t 90.512 %\t\n",
      "12000\t 0.310407\t 88.621 %\t 90.595 %\t\n",
      "12500\t 0.282559\t 87.586 %\t 90.523 %\t\n",
      "13000\t 0.295398\t 89.310 %\t 90.812 %\t\n",
      "13500\t 0.254486\t 90.000 %\t 90.636 %\t\n",
      "14000\t 0.266505\t 89.655 %\t 90.672 %\t\n",
      "14500\t 0.257149\t 90.690 %\t 90.579 %\t\n",
      "15000\t 0.259550\t 88.966 %\t 90.559 %\t\n"
     ]
    },
    {
     "data": {
      "image/png": "[encoded data removed]",
      "text/plain": [
       "<matplotlib.figure.Figure at 0x7f6f8010e128>"
      ]
     },
     "metadata": {},
     "output_type": "display_data"
    },
    {
     "name": "stdout",
     "output_type": "stream",
     "text": [
      "test accuracy : 90.517 %\n"
     ]
    }
   ],
   "source": [
    "num_steps = 15001\n",
    "interval = 100\n",
    "y = []\n",
    "z = []\n",
    "\n",
    "def accuracy(predictions, labels):\n",
    "    return (100.0 * np.sum(np.argmax(predictions, 1) == np.argmax(labels, 1)) / predictions.shape[0])\n",
    "\n",
    "config = tf.ConfigProto()\n",
    "config.gpu_options.allow_growth = True\n",
    "\n",
    "with tf.Session(graph=graph, config=config) as session:\n",
    "    tf.initialize_all_variables().run()\n",
    "    print('\\t', 'minibatch\\t', 'minibatch\\t', 'validation')\n",
    "    print('Steps\\t', 'loss     \\t', 'accuracy \\t', 'accuracy')\n",
    "    print('---------------------------------------------------')\n",
    "    for step in range(num_steps):\n",
    "        offset = (step * batch_size) % (train_labels.shape[0] - batch_size)\n",
    "        batch_data = train_dataset[offset:(offset + batch_size), :, :, :]\n",
    "        batch_labels = train_labels[offset:(offset + batch_size), :]\n",
    "        feed_dict = {tf_train_dataset : batch_data, tf_train_labels : batch_labels}\n",
    "        _, l, predictions = session.run(\n",
    "            [optimizer, loss, train_prediction], feed_dict=feed_dict)\n",
    "        if (step % 500 == 0):\n",
    "            print('%d\\t %f\\t %.3f %%\\t %.3f %%\\t' % (\n",
    "                step,\n",
    "                l,\n",
    "                accuracy(predictions, batch_labels),\n",
    "                accuracy(valid_prediction.eval(), valid_labels)\n",
    "                ))\n",
    "        if (step % interval == 0):\n",
    "            y.append(accuracy(predictions, batch_labels))\n",
    "            z.append(accuracy(valid_prediction.eval(), valid_labels))\n",
    "    \n",
    "    x = np.arange(0, num_steps, interval)\n",
    "    plt.plot(x, y, 'r', label='train')\n",
    "    plt.plot(x, z, 'b', label='validation')\n",
    "    plt.xlabel(\"step\")\n",
    "    plt.ylabel(\"accuracy (%)\")\n",
    "    plt.legend(bbox_to_anchor=(1.05, 1), loc=2, borderaxespad=0)\n",
    "    plt.show()\n",
    "    \n",
    "    # Prediction\n",
    "\n",
    "    with open('test_ans.data.txt', 'r') as f:\n",
    "        i = 0\n",
    "        count = 0\n",
    "        result = np.argmax(test_prediction.eval(), 1)\n",
    "        for line in f:\n",
    "            ans = line.split(\" \")[-1].split(\"\\n\")[0]\n",
    "            if result[i] == int(ans):\n",
    "                count += 1\n",
    "            i += 1\n",
    "    print(\"test accuracy : %.3f %%\"%(100*count/len(result)))"
   ]
  }
 ],
 "metadata": {
  "anaconda-cloud": {},
  "kernelspec": {
   "display_name": "Python [tensorflow]",
   "language": "python",
   "name": "Python [tensorflow]"
  },
  "language_info": {
   "codemirror_mode": {
    "name": "ipython",
    "version": 3
   },
   "file_extension": ".py",
   "mimetype": "text/x-python",
   "name": "python",
   "nbconvert_exporter": "python",
   "pygments_lexer": "ipython3",
   "version": "3.5.2"
  }
 },
 "nbformat": 4,
 "nbformat_minor": 1
}
